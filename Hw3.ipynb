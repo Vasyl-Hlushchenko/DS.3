{
 "cells": [
  {
   "cell_type": "code",
   "execution_count": 15,
   "metadata": {},
   "outputs": [],
   "source": [
    "import numpy as np\n",
    "import pandas as pd\n",
    "import seaborn as sns\n",
    "import matplotlib.pyplot as plt\n",
    "%matplotlib inline"
   ]
  },
  {
   "attachments": {},
   "cell_type": "markdown",
   "metadata": {},
   "source": [
    "# Liner regression:"
   ]
  },
  {
   "attachments": {},
   "cell_type": "markdown",
   "metadata": {},
   "source": [
    "$$ h(x) = w_0 + w_1*x $$"
   ]
  },
  {
   "attachments": {},
   "cell_type": "markdown",
   "metadata": {},
   "source": [
    "Напишіть функцію гіпотези лінійної регресії у векторному вигляді:"
   ]
  },
  {
   "cell_type": "code",
   "execution_count": 16,
   "metadata": {},
   "outputs": [],
   "source": [
    "def h(X, w):\n",
    "    return np.dot(X, w)"
   ]
  },
  {
   "attachments": {},
   "cell_type": "markdown",
   "metadata": {},
   "source": [
    "Cтворіть функцію для обчислення функції втрат у векторному вигляді:"
   ]
  },
  {
   "cell_type": "code",
   "execution_count": 17,
   "metadata": {},
   "outputs": [],
   "source": [
    "def loss_function(X, y, w):\n",
    "    m = X.shape[0]\n",
    "    return np.square(h(X, w) - y).sum()/(2*m)"
   ]
  },
  {
   "attachments": {},
   "cell_type": "markdown",
   "metadata": {},
   "source": [
    "Pеалізуйте один крок градієнтного спуску:"
   ]
  },
  {
   "cell_type": "code",
   "execution_count": 18,
   "metadata": {},
   "outputs": [],
   "source": [
    "def grad_step(w, grad_w, learning_rate=0.001):\n",
    "    w = w - learning_rate*grad_w\n",
    "    return w"
   ]
  },
  {
   "cell_type": "code",
   "execution_count": 19,
   "metadata": {},
   "outputs": [],
   "source": [
    "def grad_w(X, y, w):\n",
    "    m = X.shape[0]\n",
    "    return np.dot(X.T, (h(X, w) - y)) / m"
   ]
  },
  {
   "cell_type": "code",
   "execution_count": 20,
   "metadata": {},
   "outputs": [],
   "source": [
    "def grad_descent(w, X, y, num_iter=10000, learning_rate=0.001, epsilon=0.0000001):\n",
    "\n",
    "    loss = loss_function(X, y, w)\n",
    "    loss_history = [loss]\n",
    "\n",
    "    for i in range(num_iter):\n",
    "        w_best = None\n",
    "        d_w = grad_w(X, y, w)\n",
    "        w = grad_step(w, d_w, learning_rate=learning_rate)\n",
    "\n",
    "        loss = loss_function(X, y, w)\n",
    "        if abs(loss - loss_history[-1]) < epsilon:\n",
    "            loss_history.append(loss)\n",
    "            w_best = d_w\n",
    "            break\n",
    "        \n",
    "        loss_history.append(loss)\n",
    "        \n",
    "\n",
    "    return w, w_best, loss_history"
   ]
  },
  {
   "attachments": {},
   "cell_type": "markdown",
   "metadata": {},
   "source": [
    "Знайдіть найкращі параметри w для датасету прогнозуючу ціну на будинок залежно від площі, кількості ванних кімнат та кількості спалень:"
   ]
  },
  {
   "cell_type": "code",
   "execution_count": 21,
   "metadata": {},
   "outputs": [],
   "source": [
    "df = pd.read_csv(\"Housing.csv\")"
   ]
  },
  {
   "cell_type": "code",
   "execution_count": 22,
   "metadata": {},
   "outputs": [],
   "source": [
    "def normalization(data):\n",
    "    return (data - data.mean())/data.std()"
   ]
  },
  {
   "cell_type": "code",
   "execution_count": 23,
   "metadata": {},
   "outputs": [],
   "source": [
    "norm_df = pd.DataFrame()\n",
    "\n",
    "norm_df[\"price\"] = normalization(df[\"price\"])\n",
    "norm_df[\"area\"] = normalization(df[\"area\"])\n",
    "norm_df[\"bathrooms\"] = normalization(df[\"bathrooms\"])\n",
    "norm_df[\"bedrooms\"] = normalization(df[\"bedrooms\"])"
   ]
  },
  {
   "cell_type": "code",
   "execution_count": 24,
   "metadata": {},
   "outputs": [],
   "source": [
    "X = norm_df[['area', 'bathrooms', 'bedrooms']].values\n",
    "X = np.hstack((np.ones((X.shape[0], 1)) , X))\n",
    "y = norm_df[\"price\"].values.reshape(-1, 1)\n",
    "\n",
    "n = X.shape[1]\n",
    "w = np.linspace(0, 0, n).reshape((n, 1))"
   ]
  },
  {
   "cell_type": "code",
   "execution_count": 25,
   "metadata": {},
   "outputs": [
    {
     "name": "stdout",
     "output_type": "stream",
     "text": [
      "The best values w:  [-1.10818592e-16 -6.74033514e-03 -4.72771123e-03  5.66844067e-03]\n",
      "The best values of loss function:  0.25605342833253486\n"
     ]
    }
   ],
   "source": [
    "w, w_best, loss_history = grad_descent(w, X, y, 10000, learning_rate=0.001)\n",
    "loss_best = loss_history[-1]\n",
    "print('The best values w: ', w_best.flatten())\n",
    "print('The best values of loss function: ', loss_best)"
   ]
  },
  {
   "cell_type": "code",
   "execution_count": 26,
   "metadata": {},
   "outputs": [
    {
     "data": {
      "image/png": "[encoded data removed]",
      "text/plain": [
       "<Figure size 640x480 with 1 Axes>"
      ]
     },
     "metadata": {},
     "output_type": "display_data"
    }
   ],
   "source": [
    "sns.lineplot(x=np.arange(len(loss_history)), y=[k for k in loss_history])\n",
    "plt.title('Loss function')\n",
    "plt.xlabel('Iter')\n",
    "plt.ylabel('Loss')\n",
    "plt.show()"
   ]
  },
  {
   "attachments": {},
   "cell_type": "markdown",
   "metadata": {},
   "source": [
    "Знайдіть ці ж параметри за допомогою аналітичного рішення:"
   ]
  },
  {
   "cell_type": "code",
   "execution_count": 27,
   "metadata": {},
   "outputs": [
    {
     "name": "stdout",
     "output_type": "stream",
     "text": [
      "The best analitical w:  [-1.50487262e-16  4.39452085e-01  3.72344423e-01  1.60528660e-01]\n",
      "The best analitical loss function:  0.25598790065321403\n"
     ]
    }
   ],
   "source": [
    "analitical_w = np.dot(np.dot(np.linalg.inv(np.dot(X.T, X)), X.T), y)\n",
    "analitical_loss = loss_function(X, y, analitical_w)\n",
    "print('The best analitical w: ', analitical_w.flatten())\n",
    "print('The best analitical loss function: ', analitical_loss)"
   ]
  },
  {
   "attachments": {},
   "cell_type": "markdown",
   "metadata": {},
   "source": [
    "Порівняйте отримані результати:"
   ]
  },
  {
   "cell_type": "code",
   "execution_count": 28,
   "metadata": {},
   "outputs": [
    {
     "name": "stdout",
     "output_type": "stream",
     "text": [
      "The best values of loss function:  0.25605342833253486\n",
      "The best analitical loss function:  0.25598790065321403\n"
     ]
    }
   ],
   "source": [
    "print('The best values of loss function: ', loss_best)\n",
    "print('The best analitical loss function: ', analitical_loss)"
   ]
  }
 ],
 "metadata": {
  "kernelspec": {
   "display_name": "Python 3",
   "language": "python",
   "name": "python3"
  },
  "language_info": {
   "codemirror_mode": {
    "name": "ipython",
    "version": 3
   },
   "file_extension": ".py",
   "mimetype": "text/x-python",
   "name": "python",
   "nbconvert_exporter": "python",
   "pygments_lexer": "ipython3",
   "version": "3.10.6"
  },
  "orig_nbformat": 4
 },
 "nbformat": 4,
 "nbformat_minor": 2
}
